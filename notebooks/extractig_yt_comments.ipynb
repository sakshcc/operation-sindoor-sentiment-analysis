{
 "cells": [
  {
   "cell_type": "code",
   "execution_count": 1,
   "id": "f05438ef-434a-4aca-9800-c4132c00d7f7",
   "metadata": {},
   "outputs": [
    {
     "name": "stdout",
     "output_type": "stream",
     "text": [
      "Collecting youtube-comment-downloader\n",
      "  Downloading youtube_comment_downloader-0.1.76-py3-none-any.whl.metadata (2.9 kB)\n",
      "Collecting dateparser (from youtube-comment-downloader)\n",
      "  Downloading dateparser-1.2.1-py3-none-any.whl.metadata (29 kB)\n",
      "Requirement already satisfied: requests in c:\\users\\admin\\appdata\\local\\programs\\python\\python312\\lib\\site-packages (from youtube-comment-downloader) (2.32.3)\n",
      "Requirement already satisfied: python-dateutil>=2.7.0 in c:\\users\\admin\\appdata\\local\\programs\\python\\python312\\lib\\site-packages (from dateparser->youtube-comment-downloader) (2.9.0.post0)\n",
      "Collecting pytz>=2024.2 (from dateparser->youtube-comment-downloader)\n",
      "  Downloading pytz-2025.2-py2.py3-none-any.whl.metadata (22 kB)\n",
      "Requirement already satisfied: regex!=2019.02.19,!=2021.8.27,>=2015.06.24 in c:\\users\\admin\\appdata\\local\\programs\\python\\python312\\lib\\site-packages (from dateparser->youtube-comment-downloader) (2024.9.11)\n",
      "Collecting tzlocal>=0.2 (from dateparser->youtube-comment-downloader)\n",
      "  Downloading tzlocal-5.3.1-py3-none-any.whl.metadata (7.6 kB)\n",
      "Requirement already satisfied: six>=1.5 in c:\\users\\admin\\appdata\\local\\programs\\python\\python312\\lib\\site-packages (from python-dateutil>=2.7.0->dateparser->youtube-comment-downloader) (1.16.0)\n",
      "Requirement already satisfied: tzdata in c:\\users\\admin\\appdata\\local\\programs\\python\\python312\\lib\\site-packages (from tzlocal>=0.2->dateparser->youtube-comment-downloader) (2024.1)\n",
      "Requirement already satisfied: charset-normalizer<4,>=2 in c:\\users\\admin\\appdata\\local\\programs\\python\\python312\\lib\\site-packages (from requests->youtube-comment-downloader) (3.3.2)\n",
      "Requirement already satisfied: idna<4,>=2.5 in c:\\users\\admin\\appdata\\local\\programs\\python\\python312\\lib\\site-packages (from requests->youtube-comment-downloader) (3.7)\n",
      "Requirement already satisfied: urllib3<3,>=1.21.1 in c:\\users\\admin\\appdata\\local\\programs\\python\\python312\\lib\\site-packages (from requests->youtube-comment-downloader) (2.2.2)\n",
      "Requirement already satisfied: certifi>=2017.4.17 in c:\\users\\admin\\appdata\\local\\programs\\python\\python312\\lib\\site-packages (from requests->youtube-comment-downloader) (2025.4.26)\n",
      "Downloading youtube_comment_downloader-0.1.76-py3-none-any.whl (8.2 kB)\n",
      "Downloading dateparser-1.2.1-py3-none-any.whl (295 kB)\n",
      "Downloading pytz-2025.2-py2.py3-none-any.whl (509 kB)\n",
      "Downloading tzlocal-5.3.1-py3-none-any.whl (18 kB)\n",
      "Installing collected packages: pytz, tzlocal, dateparser, youtube-comment-downloader\n",
      "\n",
      "  Attempting uninstall: pytz\n",
      "\n",
      "    Found existing installation: pytz 2024.1\n",
      "\n",
      "    Uninstalling pytz-2024.1:\n",
      "\n",
      "      Successfully uninstalled pytz-2024.1\n",
      "\n",
      "   ---------------------------------------- 0/4 [pytz]\n",
      "   ---------------------------------------- 0/4 [pytz]\n",
      "   ---------------------------------------- 0/4 [pytz]\n",
      "   ---------------------------------------- 0/4 [pytz]\n",
      "   ---------------------------------------- 0/4 [pytz]\n",
      "   ---------------------------------------- 0/4 [pytz]\n",
      "   ---------------------------------------- 0/4 [pytz]\n",
      "   ---------- ----------------------------- 1/4 [tzlocal]\n",
      "   -------------------- ------------------- 2/4 [dateparser]\n",
      "   -------------------- ------------------- 2/4 [dateparser]\n",
      "   -------------------- ------------------- 2/4 [dateparser]\n",
      "   -------------------- ------------------- 2/4 [dateparser]\n",
      "   -------------------- ------------------- 2/4 [dateparser]\n",
      "   -------------------- ------------------- 2/4 [dateparser]\n",
      "   -------------------- ------------------- 2/4 [dateparser]\n",
      "   -------------------- ------------------- 2/4 [dateparser]\n",
      "   -------------------- ------------------- 2/4 [dateparser]\n",
      "   -------------------- ------------------- 2/4 [dateparser]\n",
      "   -------------------- ------------------- 2/4 [dateparser]\n",
      "   -------------------- ------------------- 2/4 [dateparser]\n",
      "   -------------------- ------------------- 2/4 [dateparser]\n",
      "   -------------------- ------------------- 2/4 [dateparser]\n",
      "   -------------------- ------------------- 2/4 [dateparser]\n",
      "   -------------------- ------------------- 2/4 [dateparser]\n",
      "   -------------------- ------------------- 2/4 [dateparser]\n",
      "   -------------------- ------------------- 2/4 [dateparser]\n",
      "   -------------------- ------------------- 2/4 [dateparser]\n",
      "   -------------------- ------------------- 2/4 [dateparser]\n",
      "   -------------------- ------------------- 2/4 [dateparser]\n",
      "   -------------------- ------------------- 2/4 [dateparser]\n",
      "   -------------------- ------------------- 2/4 [dateparser]\n",
      "   -------------------- ------------------- 2/4 [dateparser]\n",
      "   -------------------- ------------------- 2/4 [dateparser]\n",
      "   -------------------- ------------------- 2/4 [dateparser]\n",
      "   -------------------- ------------------- 2/4 [dateparser]\n",
      "   -------------------- ------------------- 2/4 [dateparser]\n",
      "   -------------------- ------------------- 2/4 [dateparser]\n",
      "   ------------------------------ --------- 3/4 [youtube-comment-downloader]\n",
      "   ---------------------------------------- 4/4 [youtube-comment-downloader]\n",
      "\n",
      "Successfully installed dateparser-1.2.1 pytz-2025.2 tzlocal-5.3.1 youtube-comment-downloader-0.1.76\n"
     ]
    }
   ],
   "source": [
    "!pip install youtube-comment-downloader\n"
   ]
  },
  {
   "cell_type": "code",
   "execution_count": 3,
   "id": "8bbc75de-abe6-49c6-b252-bb0847dfe586",
   "metadata": {},
   "outputs": [
    {
     "name": "stdout",
     "output_type": "stream",
     "text": [
      "                                             comment\n",
      "0  Shubhankar Mishra WhatsApp से जुड़कर हमारी ताक...\n",
      "1  इस टाइम हम सबको भारत के जवानों का हौसला बढ़ाना...\n",
      "2  Mere 20 saal ka bhai Indian army mein hai. \\nB...\n",
      "3  ऑपरेशन सिंदूर नाम ही सुनकर ही सुकून आ रहा है \\...\n",
      "4  In my family 2 brother is in army n 1brother i...\n"
     ]
    }
   ],
   "source": [
    "from youtube_comment_downloader import YoutubeCommentDownloader\n",
    "\n",
    "downloader = YoutubeCommentDownloader()\n",
    "comments = []\n",
    "\n",
    "video_url = \"https://www.youtube.com/watch?v=hIicIeckOIw\"\n",
    "\n",
    "# Use 0 for Top, 1 for Newest\n",
    "for comment in downloader.get_comments_from_url(video_url, sort_by=0):\n",
    "    comments.append(comment['text'])\n",
    "\n",
    "# Save or preview\n",
    "import pandas as pd\n",
    "df = pd.DataFrame(comments, columns=[\"comment\"])\n",
    "df.to_csv(\"youtube_comments.csv\", index=False)\n",
    "\n",
    "# Preview\n",
    "print(df.head())\n",
    "\n"
   ]
  }
 ],
 "metadata": {
  "kernelspec": {
   "display_name": "Python 3 (ipykernel)",
   "language": "python",
   "name": "python3"
  },
  "language_info": {
   "codemirror_mode": {
    "name": "ipython",
    "version": 3
   },
   "file_extension": ".py",
   "mimetype": "text/x-python",
   "name": "python",
   "nbconvert_exporter": "python",
   "pygments_lexer": "ipython3",
   "version": "3.12.4"
  }
 },
 "nbformat": 4,
 "nbformat_minor": 5
}
