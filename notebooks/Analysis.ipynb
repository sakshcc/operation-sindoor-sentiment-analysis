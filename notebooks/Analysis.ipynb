{
 "cells": [
  {
   "cell_type": "code",
   "execution_count": 7,
   "id": "2fc9b140-6b45-4c0e-a357-d592bf4eef9f",
   "metadata": {},
   "outputs": [
    {
     "name": "stderr",
     "output_type": "stream",
     "text": [
      "[nltk_data] Downloading package stopwords to\n",
      "[nltk_data]     C:\\Users\\Admin\\AppData\\Roaming\\nltk_data...\n",
      "[nltk_data]   Package stopwords is already up-to-date!\n",
      "[nltk_data] Downloading package wordnet to\n",
      "[nltk_data]     C:\\Users\\Admin\\AppData\\Roaming\\nltk_data...\n",
      "[nltk_data]   Package wordnet is already up-to-date!\n"
     ]
    },
    {
     "data": {
      "text/plain": [
       "True"
      ]
     },
     "execution_count": 7,
     "metadata": {},
     "output_type": "execute_result"
    }
   ],
   "source": [
    "import re\n",
    "import nltk\n",
    "from transformers import pipeline\n",
    "from nltk.corpus import stopwords\n",
    "import pandas as pd\n",
    "from nltk.stem import WordNetLemmatizer\n",
    "nltk.download('stopwords')\n",
    "nltk.download('wordnet')"
   ]
  },
  {
   "cell_type": "code",
   "execution_count": 2,
   "id": "7dff43ab-8390-4549-ad4f-0a0d1df9c63d",
   "metadata": {},
   "outputs": [],
   "source": [
    "comments_df = pd.read_csv(\"youtube_comments.csv\")  \n",
    "tweets_df = pd.read_csv(\"tweets.csv\")             \n",
    "comments_df['source'] = 'youtube'\n",
    "tweets_df['source'] = 'twitter'\n",
    "combined_df = pd.concat([comments_df, tweets_df], ignore_index=True)\n"
   ]
  },
  {
   "cell_type": "code",
   "execution_count": 3,
   "id": "392c8cba-d9d3-4706-b72f-0407f2379542",
   "metadata": {},
   "outputs": [
    {
     "name": "stdout",
     "output_type": "stream",
     "text": [
      "Index(['text', 'source'], dtype='object')\n"
     ]
    }
   ],
   "source": [
    "print(combined_df.columns)"
   ]
  },
  {
   "cell_type": "code",
   "execution_count": 4,
   "id": "9fdf04e7-245d-43e8-ba84-1f0dd90b4117",
   "metadata": {},
   "outputs": [
    {
     "name": "stdout",
     "output_type": "stream",
     "text": [
      "Index(['text', 'source'], dtype='object')\n"
     ]
    }
   ],
   "source": [
    "print(combined_df.columns)"
   ]
  },
  {
   "cell_type": "code",
   "execution_count": 5,
   "id": "b6eef998-74f5-43fd-ad14-1acc7db6ad09",
   "metadata": {},
   "outputs": [
    {
     "name": "stderr",
     "output_type": "stream",
     "text": [
      "100%|██████████████████████████████████████████████████████████████████████████████| 3376/3376 [00:45<00:00, 73.73it/s]\n"
     ]
    }
   ],
   "source": [
    "from tqdm import tqdm\n",
    "from langdetect import detect\n",
    "\n",
    "tqdm.pandas()\n",
    "\n",
    "def detect_language(text):\n",
    "    try:\n",
    "        return detect(text)\n",
    "    except:\n",
    "        return \"unknown\"\n",
    "\n",
    "combined_df['language'] = combined_df['text'].progress_apply(detect_language)\n"
   ]
  },
  {
   "cell_type": "code",
   "execution_count": 8,
   "id": "6b78c60a-a7d5-4c35-b12e-3a1868024921",
   "metadata": {},
   "outputs": [
    {
     "data": {
      "application/vnd.jupyter.widget-view+json": {
       "model_id": "780c5bf210984869ad7925e958f94ed6",
       "version_major": 2,
       "version_minor": 0
      },
      "text/plain": [
       "config.json:   0%|          | 0.00/953 [00:00<?, ?B/s]"
      ]
     },
     "metadata": {},
     "output_type": "display_data"
    },
    {
     "name": "stderr",
     "output_type": "stream",
     "text": [
      "C:\\Users\\Admin\\AppData\\Local\\Programs\\Python\\Python312\\Lib\\site-packages\\huggingface_hub\\file_download.py:143: UserWarning: `huggingface_hub` cache-system uses symlinks by default to efficiently store duplicated files but your machine does not support them in C:\\Users\\Admin\\.cache\\huggingface\\hub\\models--nlptown--bert-base-multilingual-uncased-sentiment. Caching files will still work but in a degraded version that might require more space on your disk. This warning can be disabled by setting the `HF_HUB_DISABLE_SYMLINKS_WARNING` environment variable. For more details, see https://huggingface.co/docs/huggingface_hub/how-to-cache#limitations.\n",
      "To support symlinks on Windows, you either need to activate Developer Mode or to run Python as an administrator. In order to activate developer mode, see this article: https://docs.microsoft.com/en-us/windows/apps/get-started/enable-your-device-for-development\n",
      "  warnings.warn(message)\n"
     ]
    },
    {
     "data": {
      "application/vnd.jupyter.widget-view+json": {
       "model_id": "062bb0f1ce1846e8888dc7b5109aec9a",
       "version_major": 2,
       "version_minor": 0
      },
      "text/plain": [
       "model.safetensors:   0%|          | 0.00/669M [00:00<?, ?B/s]"
      ]
     },
     "metadata": {},
     "output_type": "display_data"
    },
    {
     "data": {
      "application/vnd.jupyter.widget-view+json": {
       "model_id": "d394d2f218e8475ca39a9c3b94b03961",
       "version_major": 2,
       "version_minor": 0
      },
      "text/plain": [
       "tokenizer_config.json:   0%|          | 0.00/39.0 [00:00<?, ?B/s]"
      ]
     },
     "metadata": {},
     "output_type": "display_data"
    },
    {
     "data": {
      "application/vnd.jupyter.widget-view+json": {
       "model_id": "e9297ad3cf98494fa19ff778b70e5238",
       "version_major": 2,
       "version_minor": 0
      },
      "text/plain": [
       "vocab.txt:   0%|          | 0.00/872k [00:00<?, ?B/s]"
      ]
     },
     "metadata": {},
     "output_type": "display_data"
    },
    {
     "data": {
      "application/vnd.jupyter.widget-view+json": {
       "model_id": "d6f7664ff5b54975b0807b7da65d3968",
       "version_major": 2,
       "version_minor": 0
      },
      "text/plain": [
       "special_tokens_map.json:   0%|          | 0.00/112 [00:00<?, ?B/s]"
      ]
     },
     "metadata": {},
     "output_type": "display_data"
    },
    {
     "name": "stderr",
     "output_type": "stream",
     "text": [
      "Device set to use cpu\n"
     ]
    }
   ],
   "source": [
    "# Sentiment pipeline (Multilingual)\n",
    "classifier = pipeline(\"sentiment-analysis\", model=\"nlptown/bert-base-multilingual-uncased-sentiment\")"
   ]
  },
  {
   "cell_type": "code",
   "execution_count": 9,
   "id": "6e8e35d2-3eee-4df7-b0f2-73aceda9eca2",
   "metadata": {},
   "outputs": [],
   "source": [
    "# Multilingual model outputs labels like: 1 star, 2 stars, ..., 5 stars\n",
    "# We'll convert those to POSITIVE, NEGATIVE, NEUTRAL\n",
    "\n",
    "def classify_sentiment(text):\n",
    "    try:\n",
    "        result = classifier(str(text[:512]))[0]\n",
    "        label = result['label']\n",
    "        score = result['score']\n",
    "\n",
    "        # Normalize to POSITIVE / NEGATIVE / NEUTRAL\n",
    "        if label in ['4 stars', '5 stars']:\n",
    "            sentiment = 'POSITIVE'\n",
    "        elif label in ['1 star', '2 stars']:\n",
    "            sentiment = 'NEGATIVE'\n",
    "        else:\n",
    "            sentiment = 'NEUTRAL'\n",
    "\n",
    "        return {\n",
    "            \"sentiment_label\": sentiment,\n",
    "            \"sentiment_score\": score\n",
    "        }\n",
    "\n",
    "    except:\n",
    "        return {\n",
    "            \"sentiment_label\": \"ERROR\",\n",
    "            \"sentiment_score\": 0.0\n",
    "        }\n"
   ]
  },
  {
   "cell_type": "code",
   "execution_count": 10,
   "id": "83bf0379-fd39-48b3-ad1c-c4842e3b56db",
   "metadata": {},
   "outputs": [],
   "source": [
    "# Apply sentiment classification\n",
    "sentiment_data = combined_df[\"text\"].apply(classify_sentiment)\n",
    "combined_df[\"sentiment_label\"] = sentiment_data.apply(lambda x: x[\"sentiment_label\"])\n",
    "combined_df[\"sentiment_score\"] = sentiment_data.apply(lambda x: x[\"sentiment_score\"])"
   ]
  },
  {
   "cell_type": "code",
   "execution_count": 12,
   "id": "7031560e-a948-44ea-bf54-b4a357e676d3",
   "metadata": {},
   "outputs": [
    {
     "name": "stdout",
     "output_type": "stream",
     "text": [
      "                                                text sentiment_label\n",
      "0  Shubhankar Mishra WhatsApp से जुड़कर हमारी ताक...        POSITIVE\n",
      "1  इस टाइम हम सबको भारत के जवानों का हौसला बढ़ाना...        POSITIVE\n",
      "2  Mere 20 saal ka bhai Indian army mein hai. \\nB...        POSITIVE\n",
      "3  ऑपरेशन सिंदूर नाम ही सुनकर ही सुकून आ रहा है \\...        POSITIVE\n",
      "4  In my family 2 brother is in army n 1brother i...        POSITIVE\n"
     ]
    }
   ],
   "source": [
    "print(combined_df[['text', 'sentiment_label']].head())"
   ]
  },
  {
   "cell_type": "code",
   "execution_count": 13,
   "id": "7d9b4686-7408-4408-af48-beb48bc66b60",
   "metadata": {},
   "outputs": [],
   "source": [
    "combined_df.to_csv(\"labeled_sentiment_output.csv\", index=False)"
   ]
  },
  {
   "cell_type": "code",
   "execution_count": 14,
   "id": "57b8249b-f454-4b8a-a9a0-463ea2081a0e",
   "metadata": {},
   "outputs": [
    {
     "data": {
      "text/plain": [
       "sentiment_label\n",
       "NEGATIVE    1618\n",
       "POSITIVE    1403\n",
       "NEUTRAL      355\n",
       "Name: count, dtype: int64"
      ]
     },
     "execution_count": 14,
     "metadata": {},
     "output_type": "execute_result"
    }
   ],
   "source": [
    "combined_df['sentiment_label'].value_counts()"
   ]
  },
  {
   "cell_type": "code",
   "execution_count": 15,
   "id": "5ea38e62-bb58-481a-99b7-9695939909a9",
   "metadata": {},
   "outputs": [
    {
     "name": "stdout",
     "output_type": "stream",
     "text": [
      "sentiment_label\n",
      "NEGATIVE    0.427105\n",
      "NEUTRAL     0.266171\n",
      "POSITIVE    0.422909\n",
      "Name: sentiment_score, dtype: float64\n"
     ]
    }
   ],
   "source": [
    "# Average sentiment score per label\n",
    "print(combined_df.groupby('sentiment_label')['sentiment_score'].mean())\n"
   ]
  },
  {
   "cell_type": "code",
   "execution_count": 16,
   "id": "69cd66b0-8c66-420c-9a9d-84efd10132cf",
   "metadata": {},
   "outputs": [
    {
     "data": {
      "image/png": "[encoded data removed]",
      "text/plain": [
       "<Figure size 640x480 with 1 Axes>"
      ]
     },
     "metadata": {},
     "output_type": "display_data"
    }
   ],
   "source": [
    "import seaborn as sns\n",
    "import matplotlib.pyplot as plt\n",
    "\n",
    "sns.countplot(data=combined_df, x='sentiment_label')\n",
    "plt.title('Sentiment Distribution')\n",
    "plt.xlabel('Sentiment')\n",
    "plt.ylabel('Count')\n",
    "plt.show()"
   ]
  },
  {
   "cell_type": "code",
   "execution_count": 18,
   "id": "e8384020-af2f-49cb-8e04-eb9ee2a363d8",
   "metadata": {},
   "outputs": [
    {
     "data": {
      "image/png": "[encoded data removed]",
      "text/plain": [
       "<Figure size 800x600 with 1 Axes>"
      ]
     },
     "metadata": {},
     "output_type": "display_data"
    }
   ],
   "source": [
    "# 📊 Normalized sentiment percentages by source\n",
    "# Group and calculate percentage\n",
    "count_df = combined_df.groupby(['source', 'sentiment_label']).size().reset_index(name='count')\n",
    "total_per_source = count_df.groupby('source')['count'].transform('sum')\n",
    "count_df['percentage'] = 100 * count_df['count'] / total_per_source\n",
    "\n",
    "# Plot normalized distribution\n",
    "plt.figure(figsize=(8, 6))\n",
    "sns.barplot(data=count_df, x='sentiment_label', y='percentage', hue='source')\n",
    "plt.title(\"Normalized Sentiment Distribution by Source (%)\")\n",
    "plt.xlabel(\"Sentiment\")\n",
    "plt.ylabel(\"Percentage\")\n",
    "plt.show()"
   ]
  }
 ],
 "metadata": {
  "kernelspec": {
   "display_name": "Python 3 (ipykernel)",
   "language": "python",
   "name": "python3"
  },
  "language_info": {
   "codemirror_mode": {
    "name": "ipython",
    "version": 3
   },
   "file_extension": ".py",
   "mimetype": "text/x-python",
   "name": "python",
   "nbconvert_exporter": "python",
   "pygments_lexer": "ipython3",
   "version": "3.12.4"
  }
 },
 "nbformat": 4,
 "nbformat_minor": 5
}
